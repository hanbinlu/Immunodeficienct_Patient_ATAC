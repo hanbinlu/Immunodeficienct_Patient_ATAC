{
 "cells": [
  {
   "cell_type": "code",
   "execution_count": 1,
   "metadata": {},
   "outputs": [],
   "source": [
    "%load_ext lab_black\n",
    "import subprocess, os\n",
    "import pandas as pd\n",
    "import glob, random"
   ]
  },
  {
   "cell_type": "code",
   "execution_count": 2,
   "metadata": {},
   "outputs": [
    {
     "data": {
      "text/plain": [
       "[('ATAC188_CB_FR062.1_ND_sB',\n",
       "  'bam/ATAC188_CB_FR062.1_ND_sB.trimmed.bowtie2.filtered.bam'),\n",
       " ('ATAC088_CB_FR028.1_CVID_sB',\n",
       "  'bam/ATAC088_CB_FR028.1_CVID_sB.trimmed.bowtie2.filtered.bam'),\n",
       " ('ATAC111_CB_FR036.1_NFKB1_sB',\n",
       "  'bam/ATAC111_CB_FR036.1_NFKB1_sB.trimmed.bowtie2.filtered.bam')]"
      ]
     },
     "execution_count": 2,
     "metadata": {},
     "output_type": "execute_result"
    }
   ],
   "source": [
    "all_bam = {\n",
    "    bam_path.split(\"/\")[1].split(\".trim\")[0]: bam_path\n",
    "    for bam_path in glob.glob(\"bam/*bam\")\n",
    "}\n",
    "list(all_bam.items())[:3]"
   ]
  },
  {
   "cell_type": "markdown",
   "metadata": {},
   "source": [
    "Index bam files"
   ]
  },
  {
   "cell_type": "code",
   "execution_count": 14,
   "metadata": {},
   "outputs": [],
   "source": [
    "for bam in all_bam.values():\n",
    "    bam_index_proc = subprocess.run(f\"samtools index {bam} -@ 30\", shell=True)\n",
    "    if bam_index_proc.returncode != 0:\n",
    "        RuntimeError(f\"{bam} index failed\")"
   ]
  },
  {
   "cell_type": "markdown",
   "metadata": {
    "tags": []
   },
   "source": [
    "Deeptools Create BigWig"
   ]
  },
  {
   "cell_type": "code",
   "execution_count": null,
   "metadata": {},
   "outputs": [],
   "source": [
    "bws = {}\n",
    "for sample_label, bam in all_bam.items():\n",
    "\tbw = f\"{sample_label}.bigWig\"\n",
    "\tdeeptool_proc = subprocess.run(\n",
    "    \t\tf\"bamCoverage -b {bam} -o {bw} -p 30 -bs 10 --normalizeUsing CPM  --minMappingQuality 30\",\n",
    "    \t\tshell=True,\n",
    "\t\tstderr=subprocess.STDOUT,\n",
    "\t\tstdout=subprocess.PIPE\n",
    "\t)\n",
    "\tif deeptool_proc.returncode != 0:\n",
    "\t\tRuntimeError(f\"{sample_label} failed:\\n{deeptool_proc.stdout.decode()}\")\n",
    "\tbws[sample_label] = bw"
   ]
  },
  {
   "cell_type": "markdown",
   "metadata": {},
   "source": [
    "Create track hub for UCSC genome browser visualization"
   ]
  },
  {
   "cell_type": "code",
   "execution_count": 4,
   "metadata": {},
   "outputs": [],
   "source": [
    "!mkdir -p Bodo_ATAC_Hub/hg38"
   ]
  },
  {
   "cell_type": "code",
   "execution_count": 5,
   "metadata": {},
   "outputs": [],
   "source": [
    "with open(\"Bodo_ATAC_Hub/hub.txt\", \"w\") as o:\n",
    "    o.write(\"hub Bodo_ATAC_Hub\\n\")\n",
    "    o.write(\"shortLabel Bodo_ATAC\\n\")\n",
    "    o.write(\"longLabel Collection of patient ATAC data from Bodo\\n\")\n",
    "    o.write(\"genomesFile genomes.txt\\n\")\n",
    "    o.write(\"email hal213@ucsd.edu\\n\")\n",
    "\n",
    "with open(\"Bodo_ATAC_Hub/genomes.txt\", \"w\") as o:\n",
    "    o.write(\"genome hg38\\n\")\n",
    "    o.write(\"trackDb hg38/trackDb.txt\\n\")"
   ]
  },
  {
   "cell_type": "code",
   "execution_count": 26,
   "metadata": {},
   "outputs": [],
   "source": [
    "grouped = {}\n",
    "for sample_label in all_bam.keys():\n",
    "    # subprocess.run(f\"mv {bws[sample_label]} Bodo_ATAC_Hub/hg38\", shell=True)\n",
    "    genometype = sample_label.split(\".\")[1].split(\"_\")[1]\n",
    "    try:\n",
    "        grouped[genometype]\n",
    "    except KeyError:\n",
    "        grouped[genometype] = []\n",
    "    grouped[genometype].append(sample_label)\n",
    "\n",
    "\n",
    "with open(\"Bodo_ATAC_Hub/hg38/trackDb.txt\", \"w\") as o:\n",
    "    for i, genometype in enumerate(grouped.keys()):\n",
    "        color = f\"{random.randrange(0, 256)},{random.randrange(0, 256)},{random.randrange(0, 256)}\"\n",
    "        o.write(\n",
    "            \"\\n\".join(\n",
    "                [\n",
    "                    f\"track composition_{genometype}\",\n",
    "                    \"type bigWig\",\n",
    "                    \"compositeTrack on\",\n",
    "                    f\"shortLabel {genometype} ATAC tracks\",\n",
    "                    f\"longLabel {genometype} ATAC tracks\",\n",
    "                    \"visibility full\",\n",
    "                    \"yLineOnOff on\",\n",
    "                    \"autoScale on\",\n",
    "                    'yLineMark \"0.0\"',\n",
    "                    \"alwaysZero on\",\n",
    "                    \"graphType bar\",\n",
    "                    \"maxHeightPixels 128:75:11\",\n",
    "                    \"smoothingWindow off\",\n",
    "                    \"windowingFunction maximum\",\n",
    "                    f\"color {color}\",\n",
    "                    # f\"priority {i+1}\",\n",
    "                ]\n",
    "            )\n",
    "        )\n",
    "        o.write(\"\\n\\n\")\n",
    "        for sample_label in grouped[genometype]:\n",
    "            o.write(\n",
    "                \"\\n\".join(\n",
    "                    [\n",
    "                        f\"\\ttrack {sample_label}\",\n",
    "                        f\"\\tbigDataUrl {bws[sample_label]}\",\n",
    "                        f\"\\tshortLabel {sample_label}\",\n",
    "                        f\"\\tlongLabel {sample_label}\",\n",
    "                        f\"\\tparent composition_{genometype} on\",\n",
    "                        \"\\ttype bigWig\",\n",
    "                    ]\n",
    "                )\n",
    "            )\n",
    "            o.write(\"\\n\\n\")"
   ]
  },
  {
   "cell_type": "code",
   "execution_count": null,
   "metadata": {},
   "outputs": [],
   "source": []
  }
 ],
 "metadata": {
  "interpreter": {
   "hash": "d8a8120d55ed19984451bf152c918dbf872fc232145392f2e66ac23efd2b8318"
  },
  "kernelspec": {
   "display_name": "cooltools",
   "language": "python",
   "name": "cooltools"
  },
  "language_info": {
   "codemirror_mode": {
    "name": "ipython",
    "version": 3
   },
   "file_extension": ".py",
   "mimetype": "text/x-python",
   "name": "python",
   "nbconvert_exporter": "python",
   "pygments_lexer": "ipython3",
   "version": "3.7.12"
  }
 },
 "nbformat": 4,
 "nbformat_minor": 4
}
