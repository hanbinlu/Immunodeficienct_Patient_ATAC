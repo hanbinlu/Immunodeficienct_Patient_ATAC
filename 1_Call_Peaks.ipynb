{
 "cells": [
  {
   "cell_type": "code",
   "execution_count": 1,
   "id": "03a40875-831a-4b4f-a1a3-81b42b63f706",
   "metadata": {},
   "outputs": [],
   "source": [
    "%load_ext lab_black\n",
    "import subprocess, os\n",
    "import pandas as pd\n",
    "import glob, random"
   ]
  },
  {
   "cell_type": "code",
   "execution_count": 2,
   "id": "320c697d-d360-4bc4-8cf1-73e86585b6a3",
   "metadata": {},
   "outputs": [
    {
     "data": {
      "text/plain": [
       "[('ATAC188_CB_FR062.1_ND_sB',\n",
       "  'bam/ATAC188_CB_FR062.1_ND_sB.trimmed.bowtie2.filtered.bam'),\n",
       " ('ATAC088_CB_FR028.1_CVID_sB',\n",
       "  'bam/ATAC088_CB_FR028.1_CVID_sB.trimmed.bowtie2.filtered.bam'),\n",
       " ('ATAC111_CB_FR036.1_NFKB1_sB',\n",
       "  'bam/ATAC111_CB_FR036.1_NFKB1_sB.trimmed.bowtie2.filtered.bam')]"
      ]
     },
     "execution_count": 2,
     "metadata": {},
     "output_type": "execute_result"
    }
   ],
   "source": [
    "all_bam = {\n",
    "    bam_path.split(\"/\")[1].split(\".trim\")[0]: bam_path\n",
    "    for bam_path in glob.glob(\"bam/*bam\")\n",
    "}\n",
    "list(all_bam.items())[:3]"
   ]
  },
  {
   "cell_type": "code",
   "execution_count": 5,
   "id": "52d047af-a951-47cf-894c-7add1311ae2a",
   "metadata": {},
   "outputs": [],
   "source": [
    "macs2_out = {}\n",
    "for sample_label, bam in all_bam.items():\n",
    "    subprocess.run([\"mkdir\", f\"macs2_results/{sample_label}/\"])\n",
    "    macs2_out_prefix = f\"macs2_results/{sample_label}/{sample_label}\"\n",
    "    macs2_out[sample_label] = macs2_out_prefix\n",
    "\n",
    "    with open(f\"macs2_call.log\", \"w\") as log:\n",
    "        macs2_cmd = [\n",
    "            f\"/home/murrelab/anaconda3/envs/hobj/bin/macs2\",\n",
    "            \"callpeak\",\n",
    "            \"-t\",\n",
    "            bam,\n",
    "            \"-g\",\n",
    "            \"hs\",\n",
    "            \"-f\",\n",
    "            \"BAM\",\n",
    "            \"-n\",\n",
    "            macs2_out_prefix,\n",
    "            \"-q\",\n",
    "            str(0.01),\n",
    "            \"-B\",\n",
    "            \"--SPMR\",\n",
    "            \"--keep-dup\",\n",
    "            \"auto\",\n",
    "        ]\n",
    "\n",
    "        macs2_callpeaks = subprocess.Popen(\n",
    "            macs2_cmd,\n",
    "            stderr=log,\n",
    "        )\n",
    "        macs2_callpeaks.wait()\n",
    "\n",
    "    # peak number\n",
    "    # subprocess.run([\"wc\", \"-l\", f\"{macs2_out_prefix}_peaks.narrowPeak\"])"
   ]
  },
  {
   "cell_type": "code",
   "execution_count": 16,
   "id": "0e530bc5-08ac-4538-a938-48f72bff80c5",
   "metadata": {},
   "outputs": [],
   "source": [
    "summary = {\n",
    "    \"sample\": [],\n",
    "    \"total tags\": [],\n",
    "    \"dedup tags\": [],\n",
    "    \"redundant rate\": [],\n",
    "    \"num peaks\": [],\n",
    "}\n",
    "for sample_label, _prefix in macs2_out.items():\n",
    "    summary[\"sample\"].append(sample_label)\n",
    "    prefix = f\"{_prefix}_peaks\"\n",
    "    count = sum(1 for line in open(f\"{prefix}.narrowPeak\"))\n",
    "    summary[\"num peaks\"].append(count)\n",
    "    with open(f\"{prefix}.xls\") as stats:\n",
    "        [stats.readline() for i in range(20)]\n",
    "        summary[\"total tags\"].append(int(stats.readline().split(\": \")[1]))\n",
    "        summary[\"dedup tags\"].append(int(stats.readline().split(\": \")[1]))\n",
    "        stats.readline()\n",
    "        summary[\"redundant rate\"].append(float(stats.readline().split(\": \")[1]))\n",
    "\n",
    "pd.DataFrame(summary).to_csv(\"Summary_of_MACS2_Peak_Numbers.txt\", sep=\"\\t\", index=None)"
   ]
  },
  {
   "cell_type": "markdown",
   "id": "932d5f2f-a13b-4088-b6df-1ea00eb02b03",
   "metadata": {},
   "source": [
    "# Add ATAC292_BG_FR099.1_NFKB1_sB"
   ]
  },
  {
   "cell_type": "code",
   "execution_count": 2,
   "id": "2f8a43a8-e579-44b7-a881-1ece5e276560",
   "metadata": {},
   "outputs": [],
   "source": [
    "sample_label = \"ATAC292_BG_FR099.1_NFKB1_sB\"\n",
    "bam = \"bam/\" + sample_label + \".trimmed.bowtie2.filtered.bam\""
   ]
  },
  {
   "cell_type": "code",
   "execution_count": 3,
   "id": "242e5b13-a836-4c0f-98e9-b4181f6fa7ef",
   "metadata": {},
   "outputs": [],
   "source": [
    "!samtools index $bam"
   ]
  },
  {
   "cell_type": "code",
   "execution_count": 3,
   "id": "d22aec3c-ae24-4fd1-875c-b6b0bd0b8e6f",
   "metadata": {},
   "outputs": [],
   "source": [
    "macs2_out = {}\n",
    "subprocess.run([\"mkdir\", f\"macs2_results/{sample_label}/\"])\n",
    "macs2_out_prefix = f\"macs2_results/{sample_label}/{sample_label}\"\n",
    "macs2_out[sample_label] = macs2_out_prefix\n",
    "with open(f\"macs2_call.log\", \"a\") as log:\n",
    "    macs2_cmd = [\n",
    "        f\"/home/murrelab/anaconda3/envs/hobj/bin/macs2\",\n",
    "        \"callpeak\",\n",
    "        \"-t\",\n",
    "        bam,\n",
    "        \"-g\",\n",
    "        \"hs\",\n",
    "        \"-f\",\n",
    "        \"BAM\",\n",
    "        \"-n\",\n",
    "        macs2_out_prefix,\n",
    "        \"-q\",\n",
    "        str(0.01),\n",
    "        \"-B\",\n",
    "        \"--SPMR\",\n",
    "        \"--keep-dup\",\n",
    "        \"auto\",\n",
    "    ]\n",
    "    macs2_callpeaks = subprocess.Popen(\n",
    "        macs2_cmd,\n",
    "        stderr=log,\n",
    "    )\n",
    "    macs2_callpeaks.wait()\n",
    "# peak number\n",
    "# subprocess.run([\"wc\", \"-l\", f\"{macs2_out_prefix}_peaks.narrowPeak\"])"
   ]
  },
  {
   "cell_type": "code",
   "execution_count": 4,
   "id": "db50759c-33fa-4a8a-92fa-67791ee7023b",
   "metadata": {},
   "outputs": [],
   "source": [
    "summary = {\n",
    "    \"sample\": [],\n",
    "    \"total tags\": [],\n",
    "    \"dedup tags\": [],\n",
    "    \"redundant rate\": [],\n",
    "    \"num peaks\": [],\n",
    "}\n",
    "for sample_label, _prefix in macs2_out.items():\n",
    "    summary[\"sample\"].append(sample_label)\n",
    "    prefix = f\"{_prefix}_peaks\"\n",
    "    count = sum(1 for line in open(f\"{prefix}.narrowPeak\"))\n",
    "    summary[\"num peaks\"].append(count)\n",
    "    with open(f\"{prefix}.xls\") as stats:\n",
    "        [stats.readline() for i in range(20)]\n",
    "        summary[\"total tags\"].append(int(stats.readline().split(\": \")[1]))\n",
    "        summary[\"dedup tags\"].append(int(stats.readline().split(\": \")[1]))\n",
    "        stats.readline()\n",
    "        summary[\"redundant rate\"].append(float(stats.readline().split(\": \")[1]))\n",
    "\n",
    "pd.DataFrame(summary).to_csv(\n",
    "    \"Summary_of_MACS2_Peak_Numbers.txt\", sep=\"\\t\", index=None, mode=\"a\"\n",
    ")"
   ]
  },
  {
   "cell_type": "code",
   "execution_count": null,
   "id": "47233237-4033-4e9f-b251-c100b561f3d0",
   "metadata": {},
   "outputs": [],
   "source": []
  }
 ],
 "metadata": {
  "kernelspec": {
   "display_name": "cooltools",
   "language": "python",
   "name": "cooltools"
  },
  "language_info": {
   "codemirror_mode": {
    "name": "ipython",
    "version": 3
   },
   "file_extension": ".py",
   "mimetype": "text/x-python",
   "name": "python",
   "nbconvert_exporter": "python",
   "pygments_lexer": "ipython3",
   "version": "3.7.12"
  }
 },
 "nbformat": 4,
 "nbformat_minor": 5
}
